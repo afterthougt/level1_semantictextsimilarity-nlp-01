{
 "cells": [
  {
   "cell_type": "code",
   "execution_count": 1,
   "id": "27ca98c7",
   "metadata": {},
   "outputs": [],
   "source": [
    "import pandas as pd\n",
    "import numpy as np\n",
    "import os\n",
    "import torch\n",
    "os.chdir('./data')"
   ]
  },
  {
   "cell_type": "code",
   "execution_count": 8,
   "id": "8d6e08e8",
   "metadata": {},
   "outputs": [],
   "source": [
    "train = pd.read_csv('train.csv')\n",
    "val = pd.read_csv('dev.csv')\n",
    "test = pd.read_csv('test.csv')"
   ]
  },
  {
   "cell_type": "code",
   "execution_count": 9,
   "id": "d6f80a82",
   "metadata": {},
   "outputs": [
    {
     "data": {
      "text/html": [
       "<div>\n",
       "<style scoped>\n",
       "    .dataframe tbody tr th:only-of-type {\n",
       "        vertical-align: middle;\n",
       "    }\n",
       "\n",
       "    .dataframe tbody tr th {\n",
       "        vertical-align: top;\n",
       "    }\n",
       "\n",
       "    .dataframe thead th {\n",
       "        text-align: right;\n",
       "    }\n",
       "</style>\n",
       "<table border=\"1\" class=\"dataframe\">\n",
       "  <thead>\n",
       "    <tr style=\"text-align: right;\">\n",
       "      <th></th>\n",
       "      <th>id</th>\n",
       "      <th>source</th>\n",
       "      <th>sentence_1</th>\n",
       "      <th>sentence_2</th>\n",
       "      <th>label</th>\n",
       "      <th>binary-label</th>\n",
       "    </tr>\n",
       "  </thead>\n",
       "  <tbody>\n",
       "    <tr>\n",
       "      <th>6414</th>\n",
       "      <td>boostcamp-sts-v1-train-6414</td>\n",
       "      <td>nsmc-sampled</td>\n",
       "      <td>진짜 잼있어요~!!</td>\n",
       "      <td>정말 재밌습니다 !!!!</td>\n",
       "      <td>4.2</td>\n",
       "      <td>1.0</td>\n",
       "    </tr>\n",
       "    <tr>\n",
       "      <th>3645</th>\n",
       "      <td>boostcamp-sts-v1-train-3645</td>\n",
       "      <td>petition-rtt</td>\n",
       "      <td>최저임금 차별화 적용</td>\n",
       "      <td>최저임금 차등 적용</td>\n",
       "      <td>4.0</td>\n",
       "      <td>1.0</td>\n",
       "    </tr>\n",
       "    <tr>\n",
       "      <th>7537</th>\n",
       "      <td>boostcamp-sts-v1-train-7537</td>\n",
       "      <td>petition-rtt</td>\n",
       "      <td>제주도 감사위원회와 제주시청 국장님땜에 청원 함부로 하면 안돼요.</td>\n",
       "      <td>제주도 감사위원회와 제주시청장이 있기에 청원을 헛되이 할 수는 없습니다.</td>\n",
       "      <td>4.0</td>\n",
       "      <td>1.0</td>\n",
       "    </tr>\n",
       "    <tr>\n",
       "      <th>930</th>\n",
       "      <td>boostcamp-sts-v1-train-930</td>\n",
       "      <td>slack-sampled</td>\n",
       "      <td>이번 주 1등입니다. ㅋㅋ</td>\n",
       "      <td>이번주도 금메달 목에 걸고 시작합니다.</td>\n",
       "      <td>1.0</td>\n",
       "      <td>0.0</td>\n",
       "    </tr>\n",
       "    <tr>\n",
       "      <th>9287</th>\n",
       "      <td>boostcamp-sts-v1-train-9287</td>\n",
       "      <td>nsmc-sampled</td>\n",
       "      <td>전혀 섹시하지도 않고 새롭지도 않고-_-</td>\n",
       "      <td>그닥 섹시해 보이지도 않으면서 액션은 초딩 수준이고..</td>\n",
       "      <td>2.4</td>\n",
       "      <td>0.0</td>\n",
       "    </tr>\n",
       "  </tbody>\n",
       "</table>\n",
       "</div>"
      ],
      "text/plain": [
       "                               id         source  \\\n",
       "6414  boostcamp-sts-v1-train-6414   nsmc-sampled   \n",
       "3645  boostcamp-sts-v1-train-3645   petition-rtt   \n",
       "7537  boostcamp-sts-v1-train-7537   petition-rtt   \n",
       "930    boostcamp-sts-v1-train-930  slack-sampled   \n",
       "9287  boostcamp-sts-v1-train-9287   nsmc-sampled   \n",
       "\n",
       "                                sentence_1  \\\n",
       "6414                            진짜 잼있어요~!!   \n",
       "3645                           최저임금 차별화 적용   \n",
       "7537  제주도 감사위원회와 제주시청 국장님땜에 청원 함부로 하면 안돼요.   \n",
       "930                         이번 주 1등입니다. ㅋㅋ   \n",
       "9287                전혀 섹시하지도 않고 새롭지도 않고-_-   \n",
       "\n",
       "                                    sentence_2  label  binary-label  \n",
       "6414                             정말 재밌습니다 !!!!    4.2           1.0  \n",
       "3645                                최저임금 차등 적용    4.0           1.0  \n",
       "7537  제주도 감사위원회와 제주시청장이 있기에 청원을 헛되이 할 수는 없습니다.    4.0           1.0  \n",
       "930                      이번주도 금메달 목에 걸고 시작합니다.    1.0           0.0  \n",
       "9287            그닥 섹시해 보이지도 않으면서 액션은 초딩 수준이고..    2.4           0.0  "
      ]
     },
     "execution_count": 9,
     "metadata": {},
     "output_type": "execute_result"
    }
   ],
   "source": [
    "train.sample(5)"
   ]
  },
  {
   "cell_type": "code",
   "execution_count": 1,
   "id": "6bf3972d",
   "metadata": {},
   "outputs": [
    {
     "name": "stderr",
     "output_type": "stream",
     "text": [
      "/opt/conda/lib/python3.8/site-packages/tqdm/auto.py:21: TqdmWarning: IProgress not found. Please update jupyter and ipywidgets. See https://ipywidgets.readthedocs.io/en/stable/user_install.html\n",
      "  from .autonotebook import tqdm as notebook_tqdm\n"
     ]
    }
   ],
   "source": [
    "import pandas as pd\n",
    "import numpy as np\n",
    "import os\n",
    "import torch\n",
    "import torch\n",
    "import pytorch_lightning as pl\n",
    "\n",
    "from args import parse_arguments\n",
    "from dataloader.dataloader import Dataloader"
   ]
  },
  {
   "cell_type": "code",
   "execution_count": 2,
   "id": "45317618",
   "metadata": {},
   "outputs": [
    {
     "name": "stderr",
     "output_type": "stream",
     "text": [
      "GPU available: True (cuda), used: True\n",
      "TPU available: False, using: 0 TPU cores\n",
      "IPU available: False, using: 0 IPUs\n",
      "HPU available: False, using: 0 HPUs\n",
      "/opt/conda/lib/python3.8/site-packages/pytorch_lightning/trainer/connectors/logger_connector/logger_connector.py:67: UserWarning: Starting from v1.9.0, `tensorboardX` has been removed as a dependency of the `pytorch_lightning` package, due to potential conflicts with other packages in the ML ecosystem. For this reason, `logger=True` will use `CSVLogger` as the default logger, unless the `tensorboard` or `tensorboardX` packages are found. Please `pip install lightning[extra]` or one of them to enable TensorBoard support by default\n",
      "  warning_cache.warn(\n"
     ]
    }
   ],
   "source": [
    "args = parse_arguments()\n",
    "\n",
    "# dataloader와 model을 정의합니다.\n",
    "dataloader = Dataloader(args.model_name, args.batch_size, args.shuffle, args.dataset_commit_hash)\n",
    "model = torch.load(args.saved_model_path)\n",
    "\n",
    "# gpu가 없으면 'gpus=0'을,\n",
    "# gpu가 여러개면 'gpus=4'처럼 사용하실 gpu의 개수를 입력해주세요.\n",
    "accelerator = 'gpu' if torch.cuda.is_available() else 'cpu'\n",
    "trainer = pl.Trainer(accelerator=accelerator,\n",
    "                        devices=1, \n",
    "                        max_epochs=args.max_epoch, \n",
    "                        log_every_n_steps=1)"
   ]
  },
  {
   "cell_type": "code",
   "execution_count": null,
   "id": "c41814cb",
   "metadata": {},
   "outputs": [],
   "source": []
  },
  {
   "cell_type": "code",
   "execution_count": null,
   "id": "a92acd95",
   "metadata": {},
   "outputs": [],
   "source": []
  },
  {
   "cell_type": "code",
   "execution_count": null,
   "id": "e249a376",
   "metadata": {},
   "outputs": [],
   "source": []
  },
  {
   "cell_type": "code",
   "execution_count": null,
   "id": "52ae375c",
   "metadata": {},
   "outputs": [],
   "source": []
  },
  {
   "cell_type": "code",
   "execution_count": null,
   "id": "039b468b",
   "metadata": {},
   "outputs": [],
   "source": []
  },
  {
   "cell_type": "code",
   "execution_count": null,
   "id": "d0bf42e7",
   "metadata": {},
   "outputs": [],
   "source": []
  },
  {
   "cell_type": "code",
   "execution_count": null,
   "id": "0901629f",
   "metadata": {},
   "outputs": [],
   "source": []
  },
  {
   "cell_type": "code",
   "execution_count": null,
   "id": "6fbe15cb",
   "metadata": {},
   "outputs": [],
   "source": []
  },
  {
   "cell_type": "code",
   "execution_count": null,
   "id": "29946f92",
   "metadata": {},
   "outputs": [],
   "source": []
  },
  {
   "cell_type": "code",
   "execution_count": null,
   "id": "3e980d7e",
   "metadata": {},
   "outputs": [],
   "source": []
  },
  {
   "cell_type": "code",
   "execution_count": null,
   "id": "3c08be73",
   "metadata": {},
   "outputs": [],
   "source": []
  },
  {
   "cell_type": "code",
   "execution_count": null,
   "id": "4bdd561c",
   "metadata": {},
   "outputs": [],
   "source": []
  }
 ],
 "metadata": {
  "kernelspec": {
   "display_name": "Python 3 (ipykernel)",
   "language": "python",
   "name": "python3"
  },
  "language_info": {
   "codemirror_mode": {
    "name": "ipython",
    "version": 3
   },
   "file_extension": ".py",
   "mimetype": "text/x-python",
   "name": "python",
   "nbconvert_exporter": "python",
   "pygments_lexer": "ipython3",
   "version": "3.8.5"
  }
 },
 "nbformat": 4,
 "nbformat_minor": 5
}
